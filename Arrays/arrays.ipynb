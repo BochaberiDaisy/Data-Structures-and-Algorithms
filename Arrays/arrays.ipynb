{
 "cells": [
  {
   "cell_type": "markdown",
   "metadata": {},
   "source": [
    "# Arrays"
   ]
  },
  {
   "cell_type": "markdown",
   "metadata": {},
   "source": [
    "## Defining arrays\n",
    "Arrays need to be defined using the array module and one can define an array with three basic datatypes: `int`, `float`, and `Unicode`"
   ]
  },
  {
   "cell_type": "code",
   "execution_count": 20,
   "metadata": {},
   "outputs": [
    {
     "name": "stdout",
     "output_type": "stream",
     "text": [
      "array('i', [1, 2, 3])\n"
     ]
    }
   ],
   "source": [
    "import array as arr\n",
    "\n",
    "a = arr.array('i', [1, 2, 3])\n",
    "print(a)"
   ]
  },
  {
   "cell_type": "markdown",
   "metadata": {},
   "source": [
    "# Finding the Length of an Array"
   ]
  },
  {
   "cell_type": "code",
   "execution_count": 21,
   "metadata": {},
   "outputs": [
    {
     "name": "stdout",
     "output_type": "stream",
     "text": [
      "3\n"
     ]
    }
   ],
   "source": [
    "print(len(a))"
   ]
  },
  {
   "cell_type": "markdown",
   "metadata": {},
   "source": [
    "## Accessing Arrays"
   ]
  },
  {
   "cell_type": "markdown",
   "metadata": {},
   "source": [
    "### Using indexing\n"
   ]
  },
  {
   "cell_type": "code",
   "execution_count": 22,
   "metadata": {},
   "outputs": [
    {
     "name": "stdout",
     "output_type": "stream",
     "text": [
      "This is the first element of the array: 1\n",
      "This is the last element of the array: 3\n"
     ]
    }
   ],
   "source": [
    "print('This is the first element of the array:', a[0])\n",
    "print('This is the last element of the array:', a[-1])"
   ]
  },
  {
   "cell_type": "markdown",
   "metadata": {},
   "source": [
    "## Basic Operations\n",
    "Arrays are **mutable**. Elements in the array can be changed, added and deleted."
   ]
  },
  {
   "cell_type": "markdown",
   "metadata": {},
   "source": [
    "### 1.Insertion "
   ]
  },
  {
   "cell_type": "code",
   "execution_count": 23,
   "metadata": {},
   "outputs": [
    {
     "name": "stdout",
     "output_type": "stream",
     "text": [
      "array('i', [4, 1, 2, 3])\n"
     ]
    }
   ],
   "source": [
    "a.insert(0, 4)\n",
    "print(a)"
   ]
  },
  {
   "cell_type": "markdown",
   "metadata": {},
   "source": [
    "### 2. Deletion"
   ]
  },
  {
   "cell_type": "code",
   "execution_count": 24,
   "metadata": {},
   "outputs": [
    {
     "name": "stdout",
     "output_type": "stream",
     "text": [
      "array('i', [4, 1, 3])\n"
     ]
    }
   ],
   "source": [
    "a.remove(2)\n",
    "print(a)"
   ]
  },
  {
   "cell_type": "markdown",
   "metadata": {},
   "source": [
    "### 3. Updating"
   ]
  },
  {
   "cell_type": "code",
   "execution_count": 25,
   "metadata": {},
   "outputs": [
    {
     "name": "stdout",
     "output_type": "stream",
     "text": [
      "array('i', [4, 2, 3])\n"
     ]
    }
   ],
   "source": [
    "a[1] = 2\n",
    "print(a)"
   ]
  },
  {
   "cell_type": "markdown",
   "metadata": {},
   "source": [
    "## Reversing an Array"
   ]
  },
  {
   "cell_type": "markdown",
   "metadata": {},
   "source": [
    "### a) Using Slicing"
   ]
  },
  {
   "cell_type": "code",
   "execution_count": 26,
   "metadata": {},
   "outputs": [
    {
     "name": "stdout",
     "output_type": "stream",
     "text": [
      "This is the array before reversing: array('i', [4, 2, 3])\n",
      "This is the array after reversing: array('i', [3, 2, 4])\n"
     ]
    }
   ],
   "source": [
    "print('This is the array before reversing:', a)\n",
    "\n",
    "reversed_a = a[::-1]\n",
    "print('This is the array after reversing:', reversed_a)"
   ]
  },
  {
   "cell_type": "markdown",
   "metadata": {},
   "source": [
    "### b) Using `Reverse()`\n",
    "This works for lists. You have to convert the array to a list before reversing it."
   ]
  },
  {
   "cell_type": "code",
   "execution_count": 27,
   "metadata": {},
   "outputs": [
    {
     "name": "stdout",
     "output_type": "stream",
     "text": [
      "This is the array before reversing: array('i', [4, 2, 3])\n",
      "This is the array after reversing: array('i', [3, 2, 4])\n"
     ]
    }
   ],
   "source": [
    "print('This is the array before reversing:', a)\n",
    "list_a = a.tolist()\n",
    "\n",
    "list_a.reverse()\n",
    "\n",
    "reversed_array = arr.array('i', list_a)\n",
    "print('This is the array after reversing:', reversed_array)"
   ]
  },
  {
   "cell_type": "markdown",
   "metadata": {},
   "source": [
    "## Joining Arrays"
   ]
  },
  {
   "cell_type": "markdown",
   "metadata": {},
   "source": [
    "### a) Using `extend()`"
   ]
  },
  {
   "cell_type": "code",
   "execution_count": 28,
   "metadata": {},
   "outputs": [
    {
     "name": "stdout",
     "output_type": "stream",
     "text": [
      "array('i', [4, 2, 3, 10, 11, 12, 13])\n"
     ]
    }
   ],
   "source": [
    "b = arr.array('i', [10,11,12,13])\n",
    "\n",
    "a.extend(b)\n",
    "print(a)"
   ]
  },
  {
   "cell_type": "markdown",
   "metadata": {},
   "source": [
    "### b) Using +"
   ]
  },
  {
   "cell_type": "code",
   "execution_count": 29,
   "metadata": {},
   "outputs": [
    {
     "name": "stdout",
     "output_type": "stream",
     "text": [
      "array('i', [4, 2, 3, 10, 11, 12, 13, 10, 11, 12, 13])\n"
     ]
    }
   ],
   "source": [
    "print(a+b) "
   ]
  },
  {
   "cell_type": "markdown",
   "metadata": {},
   "source": [
    "## Find the largest element in an array\n"
   ]
  },
  {
   "cell_type": "code",
   "execution_count": 32,
   "metadata": {},
   "outputs": [
    {
     "name": "stdout",
     "output_type": "stream",
     "text": [
      "7443\n"
     ]
    }
   ],
   "source": [
    "num = arr.array('i',[32,43,74,7443])\n",
    "\n",
    "largest = num[0]\n",
    "\n",
    "for i in range(1, len(num)):\n",
    "    if num[i] >= largest:\n",
    "        largest = num[i]\n",
    "print (largest)"
   ]
  }
 ],
 "metadata": {
  "kernelspec": {
   "display_name": "Python 3",
   "language": "python",
   "name": "python3"
  },
  "language_info": {
   "codemirror_mode": {
    "name": "ipython",
    "version": 3
   },
   "file_extension": ".py",
   "mimetype": "text/x-python",
   "name": "python",
   "nbconvert_exporter": "python",
   "pygments_lexer": "ipython3",
   "version": "3.12.9"
  }
 },
 "nbformat": 4,
 "nbformat_minor": 2
}
